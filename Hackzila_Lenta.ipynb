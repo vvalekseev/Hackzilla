{
 "cells": [
  {
   "cell_type": "markdown",
   "metadata": {},
   "source": [
    "# General"
   ]
  },
  {
   "cell_type": "code",
   "execution_count": 1,
   "metadata": {},
   "outputs": [],
   "source": [
    "import pandas as pd\n",
    "import numpy as np\n",
    "import matplotlib.pyplot as plt\n",
    "from tqdm.notebook import tqdm"
   ]
  },
  {
   "cell_type": "code",
   "execution_count": 2,
   "metadata": {},
   "outputs": [],
   "source": [
    "df_clients = pd.read_csv('clients.csv')\n",
    "df_materials = pd.read_csv('materials.csv')\n",
    "df_plants = pd.read_csv('plants.csv')\n",
    "df_transactions = pd.read_parquet('transactions.parquet', engine='pyarrow')"
   ]
  },
  {
   "cell_type": "markdown",
   "metadata": {},
   "source": [
    "# Similar customers"
   ]
  },
  {
   "cell_type": "code",
   "execution_count": 3,
   "metadata": {},
   "outputs": [],
   "source": [
    "# Take small part of transactions by specific plant\n",
    "# in order to minimize CPU usage\n",
    "# you can take all transactions data, by uncommenting next line and commenting others\n",
    "\n",
    "# df_transactions_part = df_transactions\n",
    "\n",
    "plant_id = '95b09698fda1f64af16708ffb859eab9'\n",
    "df_transactions_part = df_transactions[df_transactions['plant'] == plant_id]"
   ]
  },
  {
   "cell_type": "code",
   "execution_count": 4,
   "metadata": {},
   "outputs": [],
   "source": [
    "# Get all clients from out transactions data\n",
    "\n",
    "indx2client = np.unique(df_transactions_part.client_id)\n",
    "client2indx = {}\n",
    "for i, client_id in enumerate(indx2client):\n",
    "    client2indx[client_id] = i"
   ]
  },
  {
   "cell_type": "code",
   "execution_count": 5,
   "metadata": {},
   "outputs": [],
   "source": [
    "# Get all materials from out transactions data\n",
    "\n",
    "indx2material = np.unique(df_transactions_part.material)\n",
    "material2indx = {}\n",
    "for i, material in enumerate(indx2material):\n",
    "    material2indx[material] = i"
   ]
  },
  {
   "cell_type": "code",
   "execution_count": 6,
   "metadata": {},
   "outputs": [],
   "source": [
    "# Get information about how many times each person have bought each material\n",
    "\n",
    "transactions_stat = df_transactions_part.groupby(['client_id', 'material']).sum()['sales_count'].reset_index()"
   ]
  },
  {
   "cell_type": "code",
   "execution_count": 8,
   "metadata": {},
   "outputs": [
    {
     "data": {
      "application/vnd.jupyter.widget-view+json": {
       "model_id": "60ce8fefef9342658aaf582b53804539",
       "version_major": 2,
       "version_minor": 0
      },
      "text/plain": [
       "HBox(children=(FloatProgress(value=0.0, max=275680.0), HTML(value='')))"
      ]
     },
     "metadata": {},
     "output_type": "display_data"
    },
    {
     "name": "stdout",
     "output_type": "stream",
     "text": [
      "\n"
     ]
    }
   ],
   "source": [
    "# Create clients purchases statistic\n",
    "# It shows how many times each person have bought each material, but in comfortable martix with zeros\n",
    "\n",
    "clients_purchases_stat = np.zeros((len(indx2client), len(indx2material)), dtype=np.float)\n",
    "\n",
    "for _, row in tqdm(transactions_stat.iterrows(), total=len(transactions_stat)):\n",
    "    clients_purchases_stat[client2indx[row['client_id']]][material2indx[row['material']]] = row['sales_count']"
   ]
  },
  {
   "cell_type": "code",
   "execution_count": 9,
   "metadata": {},
   "outputs": [],
   "source": [
    "# Create behavior vectors for each person\n",
    "# It is purchases statistic, but it can we something else\n",
    "\n",
    "clients_behavior = clients_purchases_stat"
   ]
  },
  {
   "cell_type": "code",
   "execution_count": 10,
   "metadata": {},
   "outputs": [],
   "source": [
    "# Find pairwise distances between clients\n",
    "# It is euclidian distances, but it can be something else\n",
    "\n",
    "from sklearn.metrics.pairwise import euclidean_distances\n",
    "distances = euclidean_distances(clients_behavior)"
   ]
  },
  {
   "cell_type": "markdown",
   "metadata": {},
   "source": [
    "For each client we find $N$ similar people. After that we look at their purchases statistic and find the most \"interesting\" materials.  \n",
    "  \n",
    "Let's define:  \n",
    "$purchases^*$ - number of purchases that material by the given client.  \n",
    "$purchases_i$ - number of purchases that material by the $i$-th similar client.  \n",
    "$S = \\sum_i{(purchases_i - purchases^*)}$  \n",
    "$P = (\\prod_i{(purchases_i + 1)})^{\\frac{1}{N}}$  \n",
    "So out function is:  \n",
    "$$f = \\frac{SP}{purchases^*}$$\n",
    "  \n",
    "Explanation:  \n",
    "$S$ helps us get only materials that similar people buy more.  \n",
    "$P$ helps us get only materials that buy the most number of similar people, not just one of them.  \n",
    "And dividing by $purchases^*$ helps us get moslty materials that given client almost doesn't buy or doesn't buy at all.\n",
    "\n",
    "But insted of function $f$ can be any function you like more."
   ]
  },
  {
   "cell_type": "code",
   "execution_count": 61,
   "metadata": {},
   "outputs": [],
   "source": [
    "# funcion to finding most similar client to given\n",
    "def find_nearest(indx, num=10):\n",
    "    # print(np.sort(distances[indx])[1:num + 1])\n",
    "    return np.argsort(distances[indx])[1:num + 1]\n",
    "\n",
    "# function to find the most interesting materials with the following described above\n",
    "def find_interesting_materials(nearest_clients_stat, client_stat, num=10):\n",
    "    return np.flip(np.argsort(\n",
    "        np.sum(nearest_clients_stat - client_stat, axis=0) * \\\n",
    "        np.product(nearest_clients_stat + 1, axis=0)**(1/nearest_clients_stat.shape[0]) / \\\n",
    "        (client_stat + 1)\n",
    "    )[-num:])\n",
    "\n",
    "# Function to find material to recommend to our client\n",
    "# print_for_material prints stats of purchasing that product for each clients (provided and similar to him/her)\n",
    "def find_recommendations(client_id, num=10, nearest_num=20, print_for_material=None):\n",
    "    assert print_for_material is None or print_for_material < num\n",
    "    indx = client2indx[client_id]\n",
    "    nearest_indxs = find_nearest(indx, num=nearest_num)\n",
    "    nearest_clients_stat = clients_purchases_stat[nearest_indxs]\n",
    "    client_stat = clients_purchases_stat[indx]\n",
    "    interesting_materials = find_interesting_materials(nearest_clients_stat, client_stat, num=num)\n",
    "    if print_for_material is not None:\n",
    "        print(f'Client stat of purchasing for the material: {client_stat[interesting_materials[print_for_material]]}')\n",
    "        print('Stat of purchasing of similar clients for the material:')\n",
    "        print(nearest_clients_stat[:, interesting_materials[print_for_material]])\n",
    "    return [indx2material[m] for m in interesting_materials]"
   ]
  },
  {
   "cell_type": "code",
   "execution_count": 56,
   "metadata": {},
   "outputs": [
    {
     "name": "stdout",
     "output_type": "stream",
     "text": [
      "Recommended materials: ['a9e11060ef4cb84b377898ecd0f17fd4', 'b70ddcb63e68237dd48abee0b842d6d0', '1cbaaeb2212bbbe9d458ca9b81d74db7']\n"
     ]
    }
   ],
   "source": [
    "# Example of our results for some customer\n",
    "\n",
    "client_id = 'f047965d9d09bc3ed6eed75de5b83c0a'\n",
    "print('Recommended materials:', find_recommendations(client_id, num=3))"
   ]
  },
  {
   "cell_type": "code",
   "execution_count": 62,
   "metadata": {},
   "outputs": [
    {
     "name": "stdout",
     "output_type": "stream",
     "text": [
      "Client stat of purchasing for the material: 0.0\n",
      "Stat of purchasing of similar clients for the material:\n",
      "[ 8.04  13.1    0.     0.     0.     0.     0.     0.     0.     0.\n",
      "  0.     0.     0.     0.    11.95   7.516  0.    11.43   0.     0.   ]\n"
     ]
    }
   ],
   "source": [
    "# Example for some customer of purchasing the second most recommended material\n",
    "# by him/her and by similar people\n",
    "\n",
    "_ = find_recommendations(client_id, num=3, print_for_material=1)"
   ]
  },
  {
   "cell_type": "code",
   "execution_count": 63,
   "metadata": {},
   "outputs": [
    {
     "name": "stdout",
     "output_type": "stream",
     "text": [
      "Informations for the 1 most recommended material\n",
      "Client stat of purchasing for the material: 0.0\n",
      "Stat of purchasing of similar clients for the material:\n",
      "[ 3.414  3.008  0.    22.216  9.398]\n",
      "\n",
      "\n",
      "Informations for the 2 most recommended material\n",
      "Client stat of purchasing for the material: 0.0\n",
      "Stat of purchasing of similar clients for the material:\n",
      "[10.  0. 18.  0.  0.]\n",
      "\n",
      "\n",
      "Informations for the 3 most recommended material\n",
      "Client stat of purchasing for the material: 0.0\n",
      "Stat of purchasing of similar clients for the material:\n",
      "[ 0.  0. 16.  0. 10.]\n",
      "\n",
      "\n",
      "Informations for the 4 most recommended material\n",
      "Client stat of purchasing for the material: 0.0\n",
      "Stat of purchasing of similar clients for the material:\n",
      "[9.216 0.    0.    6.832 4.398]\n",
      "\n",
      "\n",
      "Informations for the 5 most recommended material\n",
      "Client stat of purchasing for the material: 0.0\n",
      "Stat of purchasing of similar clients for the material:\n",
      "[22.  0.  1.  0.  1.]\n",
      "\n",
      "\n",
      "Informations for the 6 most recommended material\n",
      "Client stat of purchasing for the material: 0.0\n",
      "Stat of purchasing of similar clients for the material:\n",
      "[ 8.04 13.1   0.    0.    0.  ]\n",
      "\n",
      "\n",
      "Informations for the 7 most recommended material\n",
      "Client stat of purchasing for the material: 0.0\n",
      "Stat of purchasing of similar clients for the material:\n",
      "[ 1.  0.  0. 19.  1.]\n",
      "\n",
      "\n",
      "Informations for the 8 most recommended material\n",
      "Client stat of purchasing for the material: 0.0\n",
      "Stat of purchasing of similar clients for the material:\n",
      "[ 0.  1.  1.  0. 16.]\n",
      "\n",
      "\n",
      "Informations for the 9 most recommended material\n",
      "Client stat of purchasing for the material: 0.0\n",
      "Stat of purchasing of similar clients for the material:\n",
      "[0.    2.53  0.    3.018 9.464]\n",
      "\n",
      "\n",
      "Informations for the 10 most recommended material\n",
      "Client stat of purchasing for the material: 0.0\n",
      "Stat of purchasing of similar clients for the material:\n",
      "[3.146 0.    0.238 8.816 2.01 ]\n",
      "\n",
      "\n"
     ]
    }
   ],
   "source": [
    "# And example for the 10 most recommended materials\n",
    "\n",
    "for i in range(10):\n",
    "    print(f'Informations for the {i+1} most recommended material')\n",
    "    _ = find_recommendations(client_id, num=10, nearest_num=5, print_for_material=i)\n",
    "    print('\\n')"
   ]
  }
 ],
 "metadata": {
  "kernelspec": {
   "display_name": "Python [conda env:hacklab_tinkoff]",
   "language": "python",
   "name": "conda-env-hacklab_tinkoff-py"
  },
  "language_info": {
   "codemirror_mode": {
    "name": "ipython",
    "version": 3
   },
   "file_extension": ".py",
   "mimetype": "text/x-python",
   "name": "python",
   "nbconvert_exporter": "python",
   "pygments_lexer": "ipython3",
   "version": "3.8.5"
  }
 },
 "nbformat": 4,
 "nbformat_minor": 4
}
